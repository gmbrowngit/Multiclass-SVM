{
 "cells": [
  {
   "cell_type": "code",
   "execution_count": 2,
   "id": "33b30c9d-9336-4395-9cd8-e7db4ae0fbe3",
   "metadata": {},
   "outputs": [],
   "source": [
    "import numpy as np\n",
    "import pandas as pd\n",
    "from sklearn.svm import SVC"
   ]
  },
  {
   "cell_type": "code",
   "execution_count": 3,
   "id": "9471f18c-ab09-40fd-be82-0fbe21445c5e",
   "metadata": {},
   "outputs": [],
   "source": [
    "#load the mnist data\n",
    "mnist_file = np.load(\"/Users/garrettbrown/Desktop/CS189/HWs/hw1/data/mnist-data.npz\")\n",
    "\n",
    "mnist_data = mnist_file[\"training_data\"]\n",
    "mnist_data = mnist_data.reshape(60000, 28 * 28)\n",
    "mnist_labels = mnist_file[\"training_labels\"]"
   ]
  },
  {
   "cell_type": "code",
   "execution_count": 4,
   "id": "4217f75f-4059-425e-8d60-70ed7bc8aa40",
   "metadata": {},
   "outputs": [],
   "source": [
    "#shuffle the data, then take the first 10,000 for validation, rest is training\n",
    "indices = np.arange(mnist_data.shape[0])\n",
    "np.random.shuffle(indices)\n",
    "mnist_data = mnist_data[indices, :]\n",
    "mnist_labels = mnist_labels[indices]\n",
    "\n",
    "mnist_valid = mnist_data[:10000, :]\n",
    "mnist_valid_labels = mnist_labels[:10000]\n",
    "mnist_training = mnist_data[10000:, :]\n",
    "mnist_training_labels = mnist_labels[10000:]"
   ]
  },
  {
   "cell_type": "code",
   "execution_count": 5,
   "id": "cf51e30f-d93d-4df3-a763-c55e37a547e2",
   "metadata": {},
   "outputs": [],
   "source": [
    "#load data for the spam set\n",
    "spam_file = np.load(\"/Users/garrettbrown/Desktop/CS189/HWs/hw1/data/spam-data.npz\")\n",
    "\n",
    "spam_data = spam_file[\"training_data\"]\n",
    "spam_labels = spam_file[\"training_labels\"]"
   ]
  },
  {
   "cell_type": "code",
   "execution_count": 6,
   "id": "70911533-f0b3-4c40-9188-fbbb2373fba2",
   "metadata": {},
   "outputs": [],
   "source": [
    "#shuffle the data, then take the first 20% for validation, rest is training\n",
    "indices = np.arange(spam_data.shape[0])\n",
    "np.random.shuffle(indices)\n",
    "spam_data = spam_data[indices, :]\n",
    "spam_labels = spam_labels[indices]\n",
    "share = spam_data.shape[0] // 5\n",
    "\n",
    "spam_valid = spam_data[:share, :]\n",
    "spam_valid_labels = spam_labels[:share]\n",
    "spam_training = spam_data[share:, :]\n",
    "spam_training_labels = spam_labels[share:]"
   ]
  },
  {
   "cell_type": "code",
   "execution_count": 7,
   "id": "3c3db54c-2fcd-41ae-82f1-bc156a398dac",
   "metadata": {},
   "outputs": [],
   "source": [
    "#write a function that takes predicted and true labels and compute the share that is correct\n",
    "def accuracy(predicted, true):\n",
    "    predicted = pd.Series(predicted)\n",
    "    true = pd.Series(true)\n",
    "    count = true.size\n",
    "    true = true[true == predicted]\n",
    "    return true.size / count"
   ]
  },
  {
   "cell_type": "code",
   "execution_count": 8,
   "id": "93815883-f131-4de5-bb48-7c5594341635",
   "metadata": {},
   "outputs": [
    {
     "name": "stdout",
     "output_type": "stream",
     "text": [
      "0.7459\n",
      "0.8175\n",
      "0.8486\n",
      "0.8862\n",
      "0.8986\n",
      "0.911\n",
      "0.9128\n"
     ]
    }
   ],
   "source": [
    "#this cell trains a linear SVM with increasing numbers of training examples on the MNIST data set\n",
    "clf = SVC(kernel = 'linear')\n",
    "\n",
    "examples = [100, 200, 500, 1000, 2000, 5000, 10000]\n",
    "for example in examples:\n",
    "    \n",
    "    indices = np.arange(mnist_training.shape[0])\n",
    "    np.random.shuffle(indices)\n",
    "    mnist_training = mnist_training[indices, :]\n",
    "    mnist_training_labels = mnist_training_labels[indices]\n",
    "    \n",
    "    cur_training = mnist_training[:example, :]\n",
    "    cur_training_labels = mnist_training_labels[:example]\n",
    "\n",
    "    clf.fit(cur_training, cur_training_labels)\n",
    "    predictions = clf.predict(mnist_valid)\n",
    "    accurate = accuracy(predictions, mnist_valid_labels)\n",
    "    print(accurate)"
   ]
  },
  {
   "cell_type": "code",
   "execution_count": 9,
   "id": "a658d2e7-ebe5-474d-a044-93fc32cf2e50",
   "metadata": {},
   "outputs": [
    {
     "name": "stdout",
     "output_type": "stream",
     "text": [
      "0.7877697841726619\n",
      "0.7997601918465228\n",
      "0.8033573141486811\n",
      "0.8141486810551559\n",
      "0.815347721822542\n",
      "0.8201438848920863\n"
     ]
    }
   ],
   "source": [
    "#this cell trains a linear SVM with increasing numbers of training examples on the spam data set\n",
    "clf = SVC(kernel = 'linear')\n",
    "\n",
    "examples = [100, 200, 500, 1000, 2000, spam_training.shape[0]]\n",
    "for example in examples:\n",
    "    \n",
    "    indices = np.arange(spam_training.shape[0])\n",
    "    np.random.shuffle(indices)\n",
    "    spam_training = spam_training[indices, :]\n",
    "    spam_training_labels = spam_training_labels[indices]\n",
    "\n",
    "    cur_training = spam_training[:example, :]\n",
    "    cur_training_labels = spam_training_labels[:example]\n",
    "\n",
    "    clf.fit(cur_training, cur_training_labels)\n",
    "    predictions = clf.predict(spam_valid)\n",
    "    accurate = accuracy(predictions, spam_valid_labels)\n",
    "    print(accurate)"
   ]
  },
  {
   "cell_type": "code",
   "execution_count": 10,
   "id": "0e6708e1-f603-4561-ab38-c17bbd5e0ba4",
   "metadata": {},
   "outputs": [
    {
     "name": "stdout",
     "output_type": "stream",
     "text": [
      "0.911\n",
      "0.0001\n",
      "0.911\n",
      "0.001\n",
      "0.9129\n",
      "0.01\n",
      "0.9123\n",
      "0.1\n",
      "0.91\n",
      "1\n",
      "0.9097\n",
      "10\n",
      "0.9055\n",
      "100\n",
      "0.9114\n",
      "1000\n"
     ]
    }
   ],
   "source": [
    "#this cell trains a linear SVM with different hyperparameter C and compares performance for the MNIST set, train on 10000 examples each\n",
    "\n",
    "hyper = [.0001, .001, .01, .1, 1, 10, 100, 1000]\n",
    "for param in hyper:\n",
    "    clf = SVC(C = param, kernel = 'linear')\n",
    "    \n",
    "    indices = np.arange(mnist_training.shape[0])\n",
    "    np.random.shuffle(indices)\n",
    "    mnist_training = mnist_training[indices, :]\n",
    "    mnist_training_labels = mnist_training_labels[indices]\n",
    "    \n",
    "    cur_training = mnist_training[:10000, :]\n",
    "    cur_training_labels = mnist_training_labels[:10000]\n",
    "\n",
    "    clf.fit(cur_training, cur_training_labels)\n",
    "    predictions = clf.predict(mnist_valid)\n",
    "    accurate = accuracy(predictions, mnist_valid_labels)\n",
    "    print(accurate)\n",
    "    print(param)"
   ]
  },
  {
   "cell_type": "code",
   "execution_count": 11,
   "id": "b467c1bb-33d3-48af-add1-3ace2e4ab5ee",
   "metadata": {},
   "outputs": [
    {
     "name": "stdout",
     "output_type": "stream",
     "text": [
      "0.7123048866296184\n",
      "1e-06\n",
      "0.7123048866296184\n",
      "1e-05\n",
      "0.7180588463361047\n",
      "0.0001\n",
      "0.7494694065107196\n",
      "0.001\n",
      "0.7755995921825415\n",
      "0.01\n",
      "0.7954996481856431\n",
      "0.1\n",
      "0.8012527463059493\n",
      "1\n",
      "0.8046080500868765\n",
      "10\n"
     ]
    }
   ],
   "source": [
    "#this cell trains a linear SVM but with 5-fold cross-validation, with several hyperparameters C, for the spam dataset\n",
    "#note: higher C values were super slow due to overfitting\n",
    "spam_data\n",
    "spam_labels\n",
    "\n",
    "step = spam_data.shape[0] // 5\n",
    "steps = [0, step, 2*step, 3*step, 4*step, spam_data.shape[0]]\n",
    "hyper = [.000001, .00001, .0001, .001, .01, .1, 1, 10]\n",
    "\n",
    "for param in hyper:\n",
    "\n",
    "    indices = np.arange(spam_data.shape[0])\n",
    "    np.random.shuffle(indices)\n",
    "\n",
    "    accurate = 0\n",
    "    clf = SVC(C = param, kernel = 'linear')\n",
    "    \n",
    "    for i in range(5):\n",
    "        valid_data = spam_data[steps[i]: steps[i + 1], :]\n",
    "        valid_labels = spam_labels[steps[i]: steps[i + 1]]\n",
    "\n",
    "        training_data1 = spam_data[:steps[i], :]\n",
    "        training_data2 = spam_data[steps[i + 1]:, :]\n",
    "        training_data = np.append(training_data1, training_data2, 0)\n",
    "\n",
    "        training_labels1 = spam_labels[:steps[i]]\n",
    "        training_labels2 = spam_labels[steps[i+1]:]\n",
    "        training_labels = np.append(training_labels1, training_labels2, 0)\n",
    "\n",
    "        clf.fit(training_data, training_labels)\n",
    "        predictions = clf.predict(valid_data)\n",
    "        accurate += accuracy(predictions, valid_labels)\n",
    "\n",
    "    accurate = accurate / 5\n",
    "    print(accurate)\n",
    "    print(param)\n",
    "        \n",
    "        "
   ]
  },
  {
   "cell_type": "code",
   "execution_count": null,
   "id": "7381c695-b828-4c77-8b01-2c5d967dd54e",
   "metadata": {},
   "outputs": [],
   "source": []
  }
 ],
 "metadata": {
  "kernelspec": {
   "display_name": "Python 3 (ipykernel)",
   "language": "python",
   "name": "python3"
  },
  "language_info": {
   "codemirror_mode": {
    "name": "ipython",
    "version": 3
   },
   "file_extension": ".py",
   "mimetype": "text/x-python",
   "name": "python",
   "nbconvert_exporter": "python",
   "pygments_lexer": "ipython3",
   "version": "3.12.7"
  }
 },
 "nbformat": 4,
 "nbformat_minor": 5
}
